{
 "cells": [
  {
   "cell_type": "code",
   "execution_count": 11,
   "id": "81845ed4",
   "metadata": {},
   "outputs": [],
   "source": [
    "import cv2"
   ]
  },
  {
   "cell_type": "code",
   "execution_count": 12,
   "id": "8e200193",
   "metadata": {},
   "outputs": [],
   "source": [
    "## Method Definition\n",
    "face_classifier=cv2.CascadeClassifier('haarcascade_frontalface_default.xml')\n",
    "## Scale ands crop your faces\n",
    "def face_extractor(img):\n",
    "    ## first argument : img\n",
    "    ## second argument : scalefactor(how much image size will be reduced at each image scale)\n",
    "    ## third argument : how many neighors each rectangle should have\n",
    "    faces = face_classifier.detectMultiScale(img, 1.3, 5)\n",
    "    if faces == ():\n",
    "        return None\n",
    "    \n",
    "    ## Crop all the faces found\n",
    "    for(x,y,w,h) in faces:\n",
    "        x = x-10;\n",
    "        y = y-10;\n",
    "        \n",
    "        cropped_face = img[y:y+h+50, x:x+w+50]\n",
    "    \n",
    "    return cropped_face"
   ]
  },
  {
   "cell_type": "code",
   "execution_count": 13,
   "id": "8e190738",
   "metadata": {},
   "outputs": [
    {
     "name": "stderr",
     "output_type": "stream",
     "text": [
      "C:\\Users\\sudhi\\AppData\\Local\\Temp\\ipykernel_780\\2054343106.py:9: DeprecationWarning: elementwise comparison failed; this will raise an error in the future.\n",
      "  if faces == ():\n"
     ]
    },
    {
     "name": "stdout",
     "output_type": "stream",
     "text": [
      "Dataset Creation task is successfully done\n"
     ]
    }
   ],
   "source": [
    "## Initialize webcam\n",
    "cap = cv2.VideoCapture(0)\n",
    "count = 0\n",
    "\n",
    "## Collect 100 samples of my face from the webcam input\n",
    "while True:\n",
    "    _, frame = cap.read()\n",
    "    ## Method calling\n",
    "    if face_extractor(frame) is not None:\n",
    "        count += 1\n",
    "        face = cv2.resize(face_extractor(frame), (400, 400))\n",
    "        \n",
    "        ## Save file in the specified directory\n",
    "        file_name_path = './Images for visualization/sudhir.' + str(count) + '.jpg'\n",
    "        cv2.imwrite(file_name_path, face)\n",
    "        \n",
    "        \n",
    "        ## put count on images and display me the live count\n",
    "        cv2.putText(face, str(count), (50,50), cv2.FONT_HERSHEY_COMPLEX, 1, (0, 255, 0), 2)\n",
    "        cv2.imshow('Face Cropper', face)\n",
    "    else:\n",
    "        print(\"Face not found\")\n",
    "        pass\n",
    "    \n",
    "    if cv2.waitKey(1) == 13 or count == 100:\n",
    "        break\n",
    "\n",
    "        \n",
    "cap.release()\n",
    "cv2.destroyAllWindows()\n",
    "\n",
    "print(\"Dataset Creation task is successfully done\")"
   ]
  },
  {
   "cell_type": "code",
   "execution_count": null,
   "id": "d5fd4c6e",
   "metadata": {},
   "outputs": [],
   "source": []
  },
  {
   "cell_type": "markdown",
   "id": "1308a186",
   "metadata": {},
   "source": [
    "# code for file transfar from one folder to another"
   ]
  },
  {
   "cell_type": "raw",
   "id": "e79a32f7",
   "metadata": {},
   "source": [
    "for i in range(1,101):\n",
    "    img=cv2.imread('.././face_recognization/face_sud/sanatan/'+str(i)+'.jpg')\n",
    "    cv2.imwrite('Images for visualization/sanatan.'+str(i)+'.jpg',img)"
   ]
  },
  {
   "cell_type": "raw",
   "id": "bdfdec65",
   "metadata": {},
   "source": [
    "for i in range(1,101):\n",
    "    img=cv2.imread('Images for visualization/sudhir'+str(i)+'.jpg')\n",
    "    cv2.imwrite('Images for visualization/sudhir.'+str(i)+'.jpg',img)"
   ]
  },
  {
   "cell_type": "code",
   "execution_count": null,
   "id": "2711339e",
   "metadata": {},
   "outputs": [],
   "source": []
  },
  {
   "cell_type": "code",
   "execution_count": 58,
   "id": "b9eff97e",
   "metadata": {},
   "outputs": [],
   "source": []
  },
  {
   "cell_type": "code",
   "execution_count": 7,
   "id": "8bf97c43",
   "metadata": {},
   "outputs": [],
   "source": [
    "# setting the lavel \n",
    "import numpy as np\n",
    "def my_label(image_name):\n",
    "    name = image_name.split('.')[-3] \n",
    "    # if you have two person in your dataset\n",
    "#     if name==\"Ishwar\":\n",
    "#         return np.array([1,0])\n",
    "#     elif name==\"Manish\":\n",
    "#         return np.array([0,1])\n",
    "    \n",
    "    \n",
    "    # if you have three person in your dataset\n",
    "    if name==\"sudhir\":\n",
    "        return np.array([1,0,0])\n",
    "    elif name==\"srishu\":\n",
    "        return np.array([0,1,0])\n",
    "    elif name==\"sanatan\":\n",
    "        return np.array([0,0,1])"
   ]
  },
  {
   "cell_type": "code",
   "execution_count": null,
   "id": "9e4220bf",
   "metadata": {},
   "outputs": [],
   "source": []
  },
  {
   "cell_type": "code",
   "execution_count": 8,
   "id": "610ea36c",
   "metadata": {},
   "outputs": [],
   "source": [
    "import os\n",
    "from random import shuffle\n",
    "from tqdm import tqdm\n",
    "def my_data():\n",
    "    data = []\n",
    "    for img in tqdm(os.listdir(\"Images for visualization\")):\n",
    "        path=os.path.join(\"Images for visualization\",img)\n",
    "        img_data = cv2.imread(path, cv2.IMREAD_GRAYSCALE)\n",
    "        img_data = cv2.resize(img_data, (50,50))\n",
    "        data.append([np.array(img_data), my_label(img)])\n",
    "    shuffle(data)  \n",
    "    return data"
   ]
  },
  {
   "cell_type": "code",
   "execution_count": 9,
   "id": "ecfb8f25",
   "metadata": {},
   "outputs": [
    {
     "name": "stderr",
     "output_type": "stream",
     "text": [
      "100%|███████████████████████████████████████████████████████████████████████████████| 300/300 [00:01<00:00, 289.42it/s]\n"
     ]
    }
   ],
   "source": [
    "data = my_data()"
   ]
  },
  {
   "cell_type": "code",
   "execution_count": 14,
   "id": "5bf33d10",
   "metadata": {},
   "outputs": [],
   "source": [
    "#data\n"
   ]
  },
  {
   "cell_type": "code",
   "execution_count": 15,
   "id": "380e625a",
   "metadata": {},
   "outputs": [
    {
     "name": "stdout",
     "output_type": "stream",
     "text": [
      "(240, 50, 50, 1)\n",
      "(60, 50, 50, 1)\n"
     ]
    }
   ],
   "source": [
    "train = data[:240]  \n",
    "test = data[240:]\n",
    "X_train = np.array([i[0] for i in train]).reshape(-1,50,50,1)\n",
    "print(X_train.shape)\n",
    "y_train = [i[1] for i in train]\n",
    "X_test = np.array([i[0] for i in test]).reshape(-1,50,50,1)\n",
    "print(X_test.shape)\n",
    "y_test = [i[1] for i in test]"
   ]
  },
  {
   "cell_type": "code",
   "execution_count": null,
   "id": "9ea301ee",
   "metadata": {},
   "outputs": [],
   "source": []
  },
  {
   "cell_type": "code",
   "execution_count": null,
   "id": "1265a24e",
   "metadata": {},
   "outputs": [],
   "source": []
  },
  {
   "cell_type": "code",
   "execution_count": null,
   "id": "7b5ec747",
   "metadata": {},
   "outputs": [],
   "source": []
  },
  {
   "cell_type": "code",
   "execution_count": null,
   "id": "634aa063",
   "metadata": {},
   "outputs": [],
   "source": []
  }
 ],
 "metadata": {
  "kernelspec": {
   "display_name": "Python 3 (ipykernel)",
   "language": "python",
   "name": "python3"
  },
  "language_info": {
   "codemirror_mode": {
    "name": "ipython",
    "version": 3
   },
   "file_extension": ".py",
   "mimetype": "text/x-python",
   "name": "python",
   "nbconvert_exporter": "python",
   "pygments_lexer": "ipython3",
   "version": "3.10.6"
  }
 },
 "nbformat": 4,
 "nbformat_minor": 5
}
